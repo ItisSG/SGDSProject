{
    "cells": [
        {
            "metadata": {},
            "cell_type": "markdown",
            "source": "# Shashank Garg  IBM Data Science Capstone Project Notebook"
        },
        {
            "metadata": {},
            "cell_type": "markdown",
            "source": "## The objective of this project to predict data collision based on historical collision data is provided via CSV file."
        },
        {
            "metadata": {},
            "cell_type": "markdown",
            "source": "## STEP 1 -> The following code load CSV files for Data Collision and Add new column(Weekday) to indicate if collision occurs on weekday or weekend."
        },
        {
            "metadata": {
                "scrolled": true
            },
            "cell_type": "code",
            "source": "#This is IBM Data Science Capstone Project Notebook\nimport types\nimport pandas as pd\nfrom botocore.client import Config\nimport ibm_boto3\nimport numpy as np\n\ndef __iter__(self): return 0\n\n# @hidden_cell\n# The following code accesses a file in your IBM Cloud Object Storage. It includes your credentials.\n# You might want to remove those credentials before you share the notebook.\nclient_13f87501450b48f5a7f16910f41da947 = ibm_boto3.client(service_name='s3',\n    ibm_api_key_id='qgYtlvDY_lzs_xPzfgS7wat_gAgaVROhyIriai2FJ44_',\n    ibm_auth_endpoint=\"https://iam.cloud.ibm.com/oidc/token\",\n    config=Config(signature_version='oauth'),\n    endpoint_url='https://s3.ap-geo.objectstorage.service.networklayer.com')\n\nbody = client_13f87501450b48f5a7f16910f41da947.get_object(Bucket='ibmdatascience-donotdelete-pr-f5nystuqcywlmj',Key='Data-Collisions.csv')['Body']\n# add missing __iter__ method, so pandas accepts body as file-like object\nif not hasattr(body, \"__iter__\"): body.__iter__ = types.MethodType( __iter__, body )\n\ndf = pd.read_csv(body)\n\n#Add weekday column to indicate, if incident day\ndf['WEEKDAY'] = ((pd.DatetimeIndex(df.INCDATE).dayofweek) <5).astype(float)\n\n#Display header of Data Collision CSV file.\ndf.head()\n",
            "execution_count": 37,
            "outputs": [
                {
                    "output_type": "stream",
                    "text": "/opt/conda/envs/Python36/lib/python3.6/site-packages/IPython/core/interactiveshell.py:3020: DtypeWarning: Columns (33) have mixed types. Specify dtype option on import or set low_memory=False.\n  interactivity=interactivity, compiler=compiler, result=result)\n",
                    "name": "stderr"
                },
                {
                    "output_type": "execute_result",
                    "execution_count": 37,
                    "data": {
                        "text/plain": "   SEVERITYCODE           X          Y  OBJECTID  INCKEY  COLDETKEY REPORTNO  \\\n0             2 -122.323148  47.703140         1    1307       1307  3502005   \n1             1 -122.347294  47.647172         2   52200      52200  2607959   \n2             1 -122.334540  47.607871         3   26700      26700  1482393   \n3             1 -122.334803  47.604803         4    1144       1144  3503937   \n4             2 -122.306426  47.545739         5   17700      17700  1807429   \n\n    STATUS      ADDRTYPE   INTKEY  ...                LIGHTCOND PEDROWNOTGRNT  \\\n0  Matched  Intersection  37475.0  ...                 Daylight           NaN   \n1  Matched         Block      NaN  ...  Dark - Street Lights On           NaN   \n2  Matched         Block      NaN  ...                 Daylight           NaN   \n3  Matched         Block      NaN  ...                 Daylight           NaN   \n4  Matched  Intersection  34387.0  ...                 Daylight           NaN   \n\n  SDOTCOLNUM  SPEEDING ST_COLCODE  \\\n0        NaN       NaN         10   \n1  6354039.0       NaN         11   \n2  4323031.0       NaN         32   \n3        NaN       NaN         23   \n4  4028032.0       NaN         10   \n\n                                          ST_COLDESC  SEGLANEKEY  \\\n0                                  Entering at angle           0   \n1  From same direction - both going straight - bo...           0   \n2                             One parked--one moving           0   \n3                   From same direction - all others           0   \n4                                  Entering at angle           0   \n\n   CROSSWALKKEY  HITPARKEDCAR  WEEKDAY  \n0             0             N      1.0  \n1             0             N      1.0  \n2             0             N      1.0  \n3             0             N      1.0  \n4             0             N      1.0  \n\n[5 rows x 39 columns]",
                        "text/html": "<div>\n<style scoped>\n    .dataframe tbody tr th:only-of-type {\n        vertical-align: middle;\n    }\n\n    .dataframe tbody tr th {\n        vertical-align: top;\n    }\n\n    .dataframe thead th {\n        text-align: right;\n    }\n</style>\n<table border=\"1\" class=\"dataframe\">\n  <thead>\n    <tr style=\"text-align: right;\">\n      <th></th>\n      <th>SEVERITYCODE</th>\n      <th>X</th>\n      <th>Y</th>\n      <th>OBJECTID</th>\n      <th>INCKEY</th>\n      <th>COLDETKEY</th>\n      <th>REPORTNO</th>\n      <th>STATUS</th>\n      <th>ADDRTYPE</th>\n      <th>INTKEY</th>\n      <th>...</th>\n      <th>LIGHTCOND</th>\n      <th>PEDROWNOTGRNT</th>\n      <th>SDOTCOLNUM</th>\n      <th>SPEEDING</th>\n      <th>ST_COLCODE</th>\n      <th>ST_COLDESC</th>\n      <th>SEGLANEKEY</th>\n      <th>CROSSWALKKEY</th>\n      <th>HITPARKEDCAR</th>\n      <th>WEEKDAY</th>\n    </tr>\n  </thead>\n  <tbody>\n    <tr>\n      <th>0</th>\n      <td>2</td>\n      <td>-122.323148</td>\n      <td>47.703140</td>\n      <td>1</td>\n      <td>1307</td>\n      <td>1307</td>\n      <td>3502005</td>\n      <td>Matched</td>\n      <td>Intersection</td>\n      <td>37475.0</td>\n      <td>...</td>\n      <td>Daylight</td>\n      <td>NaN</td>\n      <td>NaN</td>\n      <td>NaN</td>\n      <td>10</td>\n      <td>Entering at angle</td>\n      <td>0</td>\n      <td>0</td>\n      <td>N</td>\n      <td>1.0</td>\n    </tr>\n    <tr>\n      <th>1</th>\n      <td>1</td>\n      <td>-122.347294</td>\n      <td>47.647172</td>\n      <td>2</td>\n      <td>52200</td>\n      <td>52200</td>\n      <td>2607959</td>\n      <td>Matched</td>\n      <td>Block</td>\n      <td>NaN</td>\n      <td>...</td>\n      <td>Dark - Street Lights On</td>\n      <td>NaN</td>\n      <td>6354039.0</td>\n      <td>NaN</td>\n      <td>11</td>\n      <td>From same direction - both going straight - bo...</td>\n      <td>0</td>\n      <td>0</td>\n      <td>N</td>\n      <td>1.0</td>\n    </tr>\n    <tr>\n      <th>2</th>\n      <td>1</td>\n      <td>-122.334540</td>\n      <td>47.607871</td>\n      <td>3</td>\n      <td>26700</td>\n      <td>26700</td>\n      <td>1482393</td>\n      <td>Matched</td>\n      <td>Block</td>\n      <td>NaN</td>\n      <td>...</td>\n      <td>Daylight</td>\n      <td>NaN</td>\n      <td>4323031.0</td>\n      <td>NaN</td>\n      <td>32</td>\n      <td>One parked--one moving</td>\n      <td>0</td>\n      <td>0</td>\n      <td>N</td>\n      <td>1.0</td>\n    </tr>\n    <tr>\n      <th>3</th>\n      <td>1</td>\n      <td>-122.334803</td>\n      <td>47.604803</td>\n      <td>4</td>\n      <td>1144</td>\n      <td>1144</td>\n      <td>3503937</td>\n      <td>Matched</td>\n      <td>Block</td>\n      <td>NaN</td>\n      <td>...</td>\n      <td>Daylight</td>\n      <td>NaN</td>\n      <td>NaN</td>\n      <td>NaN</td>\n      <td>23</td>\n      <td>From same direction - all others</td>\n      <td>0</td>\n      <td>0</td>\n      <td>N</td>\n      <td>1.0</td>\n    </tr>\n    <tr>\n      <th>4</th>\n      <td>2</td>\n      <td>-122.306426</td>\n      <td>47.545739</td>\n      <td>5</td>\n      <td>17700</td>\n      <td>17700</td>\n      <td>1807429</td>\n      <td>Matched</td>\n      <td>Intersection</td>\n      <td>34387.0</td>\n      <td>...</td>\n      <td>Daylight</td>\n      <td>NaN</td>\n      <td>4028032.0</td>\n      <td>NaN</td>\n      <td>10</td>\n      <td>Entering at angle</td>\n      <td>0</td>\n      <td>0</td>\n      <td>N</td>\n      <td>1.0</td>\n    </tr>\n  </tbody>\n</table>\n<p>5 rows \u00d7 39 columns</p>\n</div>"
                    },
                    "metadata": {}
                }
            ]
        },
        {
            "metadata": {},
            "cell_type": "markdown",
            "source": "## Looking into data the hypothesis is that weather and road/light condition are bigh factors for vehicle collision and therefore now on, i will prepare data and apply prediction model using these data fields.\n\n## STEP 2 --> Prepare Data for further analysis includes add data categories for weather, road condition and light condition \n\n## I also looked into columns such as Under Influence and INATTENTION, however, their data was not complete and thefore ruled those columns out for prediction model.       "
        },
        {
            "metadata": {},
            "cell_type": "markdown",
            "source": "### The following code add numeric categories for weather, road and light condition fields\n\n"
        },
        {
            "metadata": {},
            "cell_type": "code",
            "source": "#We must use label encoding to covert the features to our desired data type.\ndf[\"WEATHER\"] = df[\"WEATHER\"].astype('category')\ndf[\"ROADCOND\"] = df[\"ROADCOND\"].astype('category')\ndf[\"LIGHTCOND\"] = df[\"LIGHTCOND\"].astype('category')\n\n\ndf[\"WEATHER_CD\"] = df[\"WEATHER\"].cat.codes\ndf[\"ROADCOND_CD\"] = df[\"ROADCOND\"].cat.codes\ndf[\"LIGHTCOND_CD\"] = df[\"LIGHTCOND\"].cat.codes\n\ndf[\"WEATHER_CD\"] = df[\"WEATHER_CD\"].astype('int64')\ndf[\"ROADCOND_CD\"] = df[\"ROADCOND_CD\"].astype('int64')\ndf[\"LIGHTCOND_CD\"] = df[\"LIGHTCOND_CD\"].astype('int64')\n\ndf.dtypes\n\n",
            "execution_count": 38,
            "outputs": [
                {
                    "output_type": "execute_result",
                    "execution_count": 38,
                    "data": {
                        "text/plain": "SEVERITYCODE         int64\nX                  float64\nY                  float64\nOBJECTID             int64\nINCKEY               int64\nCOLDETKEY            int64\nREPORTNO            object\nSTATUS              object\nADDRTYPE            object\nINTKEY             float64\nLOCATION            object\nEXCEPTRSNCODE       object\nEXCEPTRSNDESC       object\nSEVERITYCODE.1       int64\nSEVERITYDESC        object\nCOLLISIONTYPE       object\nPERSONCOUNT          int64\nPEDCOUNT             int64\nPEDCYLCOUNT          int64\nVEHCOUNT             int64\nINCDATE             object\nINCDTTM             object\nJUNCTIONTYPE        object\nSDOT_COLCODE         int64\nSDOT_COLDESC        object\nINATTENTIONIND      object\nUNDERINFL           object\nWEATHER           category\nROADCOND          category\nLIGHTCOND         category\nPEDROWNOTGRNT       object\nSDOTCOLNUM         float64\nSPEEDING            object\nST_COLCODE          object\nST_COLDESC          object\nSEGLANEKEY           int64\nCROSSWALKKEY         int64\nHITPARKEDCAR        object\nWEEKDAY            float64\nWEATHER_CD           int64\nROADCOND_CD          int64\nLIGHTCOND_CD         int64\ndtype: object"
                    },
                    "metadata": {}
                }
            ]
        },
        {
            "metadata": {},
            "cell_type": "markdown",
            "source": "## The following code reindex dataframe to display newly added categories and create sample data for prediction model"
        },
        {
            "metadata": {},
            "cell_type": "code",
            "source": "new_index=['SEVERITYCODE','WEEKDAY','WEATHER _CD','ROADCOND_CD','LIGHTCOND_CD']\ndf.reindex(new_index)\ndf[['SEVERITYCODE','WEEKDAY','WEATHER_CD','ROADCOND_CD','LIGHTCOND_CD']].head(11)",
            "execution_count": 39,
            "outputs": [
                {
                    "output_type": "execute_result",
                    "execution_count": 39,
                    "data": {
                        "text/plain": "    SEVERITYCODE  WEEKDAY  WEATHER_CD  ROADCOND_CD  LIGHTCOND_CD\n0              2      1.0           4            8             5\n1              1      1.0           6            8             2\n2              1      1.0           4            0             5\n3              1      1.0           1            0             5\n4              2      1.0           6            8             5\n5              1      0.0           1            0             5\n6              1      1.0           6            8             5\n7              2      1.0           1            0             5\n8              1      1.0           1            0             5\n9              2      1.0           1            0             5\n10             1      1.0           4            0             5",
                        "text/html": "<div>\n<style scoped>\n    .dataframe tbody tr th:only-of-type {\n        vertical-align: middle;\n    }\n\n    .dataframe tbody tr th {\n        vertical-align: top;\n    }\n\n    .dataframe thead th {\n        text-align: right;\n    }\n</style>\n<table border=\"1\" class=\"dataframe\">\n  <thead>\n    <tr style=\"text-align: right;\">\n      <th></th>\n      <th>SEVERITYCODE</th>\n      <th>WEEKDAY</th>\n      <th>WEATHER_CD</th>\n      <th>ROADCOND_CD</th>\n      <th>LIGHTCOND_CD</th>\n    </tr>\n  </thead>\n  <tbody>\n    <tr>\n      <th>0</th>\n      <td>2</td>\n      <td>1.0</td>\n      <td>4</td>\n      <td>8</td>\n      <td>5</td>\n    </tr>\n    <tr>\n      <th>1</th>\n      <td>1</td>\n      <td>1.0</td>\n      <td>6</td>\n      <td>8</td>\n      <td>2</td>\n    </tr>\n    <tr>\n      <th>2</th>\n      <td>1</td>\n      <td>1.0</td>\n      <td>4</td>\n      <td>0</td>\n      <td>5</td>\n    </tr>\n    <tr>\n      <th>3</th>\n      <td>1</td>\n      <td>1.0</td>\n      <td>1</td>\n      <td>0</td>\n      <td>5</td>\n    </tr>\n    <tr>\n      <th>4</th>\n      <td>2</td>\n      <td>1.0</td>\n      <td>6</td>\n      <td>8</td>\n      <td>5</td>\n    </tr>\n    <tr>\n      <th>5</th>\n      <td>1</td>\n      <td>0.0</td>\n      <td>1</td>\n      <td>0</td>\n      <td>5</td>\n    </tr>\n    <tr>\n      <th>6</th>\n      <td>1</td>\n      <td>1.0</td>\n      <td>6</td>\n      <td>8</td>\n      <td>5</td>\n    </tr>\n    <tr>\n      <th>7</th>\n      <td>2</td>\n      <td>1.0</td>\n      <td>1</td>\n      <td>0</td>\n      <td>5</td>\n    </tr>\n    <tr>\n      <th>8</th>\n      <td>1</td>\n      <td>1.0</td>\n      <td>1</td>\n      <td>0</td>\n      <td>5</td>\n    </tr>\n    <tr>\n      <th>9</th>\n      <td>2</td>\n      <td>1.0</td>\n      <td>1</td>\n      <td>0</td>\n      <td>5</td>\n    </tr>\n    <tr>\n      <th>10</th>\n      <td>1</td>\n      <td>1.0</td>\n      <td>4</td>\n      <td>0</td>\n      <td>5</td>\n    </tr>\n  </tbody>\n</table>\n</div>"
                    },
                    "metadata": {}
                }
            ]
        },
        {
            "metadata": {},
            "cell_type": "code",
            "source": "#Create Sample data to Balancing the Dataset\n\nsampledata=df[['SEVERITYCODE','WEEKDAY','WEATHER_CD','ROADCOND_CD','LIGHTCOND_CD']]\n\nbalancedata= sampledata.sample(frac=0.5, replace=True, random_state=1)\n\nbalancedata.head()",
            "execution_count": 40,
            "outputs": [
                {
                    "output_type": "execute_result",
                    "execution_count": 40,
                    "data": {
                        "text/plain": "        SEVERITYCODE  WEEKDAY  WEATHER_CD  ROADCOND_CD  LIGHTCOND_CD\n128037             2      1.0           1            0             6\n5192               1      1.0          10            7             8\n50057              1      1.0           4            8             5\n109259             2      1.0           1            0             5\n73349              2      0.0           1            0             5",
                        "text/html": "<div>\n<style scoped>\n    .dataframe tbody tr th:only-of-type {\n        vertical-align: middle;\n    }\n\n    .dataframe tbody tr th {\n        vertical-align: top;\n    }\n\n    .dataframe thead th {\n        text-align: right;\n    }\n</style>\n<table border=\"1\" class=\"dataframe\">\n  <thead>\n    <tr style=\"text-align: right;\">\n      <th></th>\n      <th>SEVERITYCODE</th>\n      <th>WEEKDAY</th>\n      <th>WEATHER_CD</th>\n      <th>ROADCOND_CD</th>\n      <th>LIGHTCOND_CD</th>\n    </tr>\n  </thead>\n  <tbody>\n    <tr>\n      <th>128037</th>\n      <td>2</td>\n      <td>1.0</td>\n      <td>1</td>\n      <td>0</td>\n      <td>6</td>\n    </tr>\n    <tr>\n      <th>5192</th>\n      <td>1</td>\n      <td>1.0</td>\n      <td>10</td>\n      <td>7</td>\n      <td>8</td>\n    </tr>\n    <tr>\n      <th>50057</th>\n      <td>1</td>\n      <td>1.0</td>\n      <td>4</td>\n      <td>8</td>\n      <td>5</td>\n    </tr>\n    <tr>\n      <th>109259</th>\n      <td>2</td>\n      <td>1.0</td>\n      <td>1</td>\n      <td>0</td>\n      <td>5</td>\n    </tr>\n    <tr>\n      <th>73349</th>\n      <td>2</td>\n      <td>0.0</td>\n      <td>1</td>\n      <td>0</td>\n      <td>5</td>\n    </tr>\n  </tbody>\n</table>\n</div>"
                    },
                    "metadata": {}
                }
            ]
        },
        {
            "metadata": {},
            "cell_type": "code",
            "source": "#check correleation amoung various data categories \nbalancedata[['SEVERITYCODE','WEEKDAY','WEATHER_CD','ROADCOND_CD','LIGHTCOND_CD']].corr()",
            "execution_count": 41,
            "outputs": [
                {
                    "output_type": "execute_result",
                    "execution_count": 41,
                    "data": {
                        "text/plain": "              SEVERITYCODE   WEEKDAY  WEATHER_CD  ROADCOND_CD  LIGHTCOND_CD\nSEVERITYCODE      1.000000  0.006784   -0.098802    -0.040247     -0.040960\nWEEKDAY           0.006784  1.000000   -0.015088    -0.014827      0.082862\nWEATHER_CD       -0.098802 -0.015088    1.000000     0.753736      0.284944\nROADCOND_CD      -0.040247 -0.014827    0.753736     1.000000      0.095357\nLIGHTCOND_CD     -0.040960  0.082862    0.284944     0.095357      1.000000",
                        "text/html": "<div>\n<style scoped>\n    .dataframe tbody tr th:only-of-type {\n        vertical-align: middle;\n    }\n\n    .dataframe tbody tr th {\n        vertical-align: top;\n    }\n\n    .dataframe thead th {\n        text-align: right;\n    }\n</style>\n<table border=\"1\" class=\"dataframe\">\n  <thead>\n    <tr style=\"text-align: right;\">\n      <th></th>\n      <th>SEVERITYCODE</th>\n      <th>WEEKDAY</th>\n      <th>WEATHER_CD</th>\n      <th>ROADCOND_CD</th>\n      <th>LIGHTCOND_CD</th>\n    </tr>\n  </thead>\n  <tbody>\n    <tr>\n      <th>SEVERITYCODE</th>\n      <td>1.000000</td>\n      <td>0.006784</td>\n      <td>-0.098802</td>\n      <td>-0.040247</td>\n      <td>-0.040960</td>\n    </tr>\n    <tr>\n      <th>WEEKDAY</th>\n      <td>0.006784</td>\n      <td>1.000000</td>\n      <td>-0.015088</td>\n      <td>-0.014827</td>\n      <td>0.082862</td>\n    </tr>\n    <tr>\n      <th>WEATHER_CD</th>\n      <td>-0.098802</td>\n      <td>-0.015088</td>\n      <td>1.000000</td>\n      <td>0.753736</td>\n      <td>0.284944</td>\n    </tr>\n    <tr>\n      <th>ROADCOND_CD</th>\n      <td>-0.040247</td>\n      <td>-0.014827</td>\n      <td>0.753736</td>\n      <td>1.000000</td>\n      <td>0.095357</td>\n    </tr>\n    <tr>\n      <th>LIGHTCOND_CD</th>\n      <td>-0.040960</td>\n      <td>0.082862</td>\n      <td>0.284944</td>\n      <td>0.095357</td>\n      <td>1.000000</td>\n    </tr>\n  </tbody>\n</table>\n</div>"
                    },
                    "metadata": {}
                }
            ]
        },
        {
            "metadata": {},
            "cell_type": "code",
            "source": "#Create X data set to apply ML prediction model \nX=np.asarray(balancedata[['WEATHER_CD','ROADCOND_CD','LIGHTCOND_CD']])\nX[0:5]",
            "execution_count": 42,
            "outputs": [
                {
                    "output_type": "execute_result",
                    "execution_count": 42,
                    "data": {
                        "text/plain": "array([[ 1,  0,  6],\n       [10,  7,  8],\n       [ 4,  8,  5],\n       [ 1,  0,  5],\n       [ 1,  0,  5]])"
                    },
                    "metadata": {}
                }
            ]
        },
        {
            "metadata": {},
            "cell_type": "code",
            "source": "#Create Y data set to apply ML prediction model\ny=np.asarray(balancedata['SEVERITYCODE'])\ny[0:5]",
            "execution_count": 43,
            "outputs": [
                {
                    "output_type": "execute_result",
                    "execution_count": 43,
                    "data": {
                        "text/plain": "array([2, 1, 1, 2, 2])"
                    },
                    "metadata": {}
                }
            ]
        },
        {
            "metadata": {},
            "cell_type": "markdown",
            "source": "## Apply Decision ML Model to predict collision "
        },
        {
            "metadata": {},
            "cell_type": "code",
            "source": "from sklearn.model_selection import train_test_split\nfrom sklearn.tree import DecisionTreeClassifier",
            "execution_count": 44,
            "outputs": []
        },
        {
            "metadata": {},
            "cell_type": "code",
            "source": "#Train and Split Data Set\n#We will use 30% of our data for testing and 70% for training.\nX_trainset, X_testset, y_trainset, y_testset = train_test_split(X, y, test_size=0.3, random_state=3)\n\nprint ('Train Set:',X_trainset.shape,y_trainset.shape)\nprint ('Train Set:',X_testset.shape,y_testset.shape)\n",
            "execution_count": 45,
            "outputs": [
                {
                    "output_type": "stream",
                    "text": "Train Set: (68135, 3) (68135,)\nTrain Set: (29201, 3) (29201,)\n",
                    "name": "stdout"
                }
            ]
        },
        {
            "metadata": {},
            "cell_type": "code",
            "source": "sevTree = DecisionTreeClassifier(criterion=\"entropy\", max_depth = 4)\nsevTree # it shows the default parameters\nsevTree.fit(X_trainset,y_trainset)\npredTree = sevTree.predict(X_testset)\nprint(predTree[0:3])",
            "execution_count": 46,
            "outputs": [
                {
                    "output_type": "stream",
                    "text": "[1 1 1]\n",
                    "name": "stdout"
                }
            ]
        },
        {
            "metadata": {},
            "cell_type": "code",
            "source": "from sklearn import metrics\nimport matplotlib.pyplot as plt\nprint(\"DecisionTrees's Accuracy: \", metrics.accuracy_score(y_testset, predTree))",
            "execution_count": 47,
            "outputs": [
                {
                    "output_type": "stream",
                    "text": "DecisionTrees's Accuracy:  0.7010376356974076\n",
                    "name": "stdout"
                }
            ]
        },
        {
            "metadata": {},
            "cell_type": "markdown",
            "source": "## Apply K-NN Model to Predict Collision "
        },
        {
            "metadata": {},
            "cell_type": "code",
            "source": "from sklearn.neighbors import KNeighborsClassifier",
            "execution_count": 48,
            "outputs": []
        },
        {
            "metadata": {},
            "cell_type": "code",
            "source": "k = 20\n#Train Model and Predict  \nneigh = KNeighborsClassifier(n_neighbors = k).fit(X_trainset,y_trainset)\nneigh\n",
            "execution_count": 49,
            "outputs": [
                {
                    "output_type": "execute_result",
                    "execution_count": 49,
                    "data": {
                        "text/plain": "KNeighborsClassifier(algorithm='auto', leaf_size=30, metric='minkowski',\n           metric_params=None, n_jobs=None, n_neighbors=20, p=2,\n           weights='uniform')"
                    },
                    "metadata": {}
                }
            ]
        },
        {
            "metadata": {},
            "cell_type": "code",
            "source": "yhat = neigh.predict(X_testset)\nyhat[0:5]",
            "execution_count": 50,
            "outputs": [
                {
                    "output_type": "execute_result",
                    "execution_count": 50,
                    "data": {
                        "text/plain": "array([1, 1, 1, 1, 1])"
                    },
                    "metadata": {}
                }
            ]
        },
        {
            "metadata": {},
            "cell_type": "code",
            "source": "from sklearn import metrics\nprint(\"Train set Accuracy: \", metrics.accuracy_score(y_trainset, neigh.predict(X_trainset)))\nprint(\"Test set Accuracy: \", metrics.accuracy_score(y_testset, yhat))",
            "execution_count": 51,
            "outputs": [
                {
                    "output_type": "stream",
                    "text": "Train set Accuracy:  0.7002421662875175\nTest set Accuracy:  0.7009691448922982\n",
                    "name": "stdout"
                }
            ]
        },
        {
            "metadata": {},
            "cell_type": "code",
            "source": "Ks = 25\nmean_acc = np.zeros((Ks-1))\nstd_acc = np.zeros((Ks-1))\nConfustionMx = [];\nfor n in range(15,Ks):\n    \n    #Train Model and Predict  \n    neigh = KNeighborsClassifier(n_neighbors = n).fit(X_trainset,y_trainset)\n    yhat=neigh.predict(X_testset)\n    mean_acc[n-1] = metrics.accuracy_score(y_testset, yhat)\n\n    \n    std_acc[n-1]=np.std(yhat==y_testset)/np.sqrt(yhat.shape[0])\n\nmean_acc",
            "execution_count": 52,
            "outputs": [
                {
                    "output_type": "execute_result",
                    "execution_count": 52,
                    "data": {
                        "text/plain": "array([0.        , 0.        , 0.        , 0.        , 0.        ,\n       0.        , 0.        , 0.        , 0.        , 0.        ,\n       0.        , 0.        , 0.        , 0.        , 0.70059245,\n       0.70100339, 0.69203109, 0.69237355, 0.69247629, 0.70096914,\n       0.6923393 , 0.70096914, 0.70096914, 0.70096914])"
                    },
                    "metadata": {}
                }
            ]
        },
        {
            "metadata": {},
            "cell_type": "code",
            "source": "import matplotlib.pyplot as plt\nplt.plot(range(1,Ks),mean_acc,'g')\nplt.fill_between(range(1,Ks),mean_acc - 1 * std_acc,mean_acc + 1 * std_acc, alpha=0.10)\nplt.legend(('Accuracy ', '+/- 3xstd'))\nplt.ylabel('Accuracy ')\nplt.xlabel('Number of Nabors (K)')\nplt.tight_layout()\nplt.show()",
            "execution_count": 53,
            "outputs": [
                {
                    "output_type": "display_data",
                    "data": {
                        "text/plain": "<Figure size 432x288 with 1 Axes>",
                        "image/png": "[encoded data removed]"
                    },
                    "metadata": {
                        "needs_background": "light"
                    }
                }
            ]
        },
        {
            "metadata": {},
            "cell_type": "code",
            "source": "print( \"The best accuracy was with\", mean_acc.max(), \"with k=\", mean_acc.argmax()+1) ",
            "execution_count": 54,
            "outputs": [
                {
                    "output_type": "stream",
                    "text": "The best accuracy was with 0.7010033902948529 with k= 16\n",
                    "name": "stdout"
                }
            ]
        },
        {
            "metadata": {},
            "cell_type": "markdown",
            "source": "## Evaluate KNN Accuracey using F1 Score and Jaccard Score"
        },
        {
            "metadata": {},
            "cell_type": "code",
            "source": "from sklearn.metrics import f1_score\nf1_score(y_testset, yhat, average='weighted') ",
            "execution_count": 55,
            "outputs": [
                {
                    "output_type": "execute_result",
                    "execution_count": 55,
                    "data": {
                        "text/plain": "0.5777667966960074"
                    },
                    "metadata": {}
                }
            ]
        },
        {
            "metadata": {},
            "cell_type": "code",
            "source": "from sklearn.metrics import jaccard_similarity_score\njaccard_similarity_score(y_testset, yhat)",
            "execution_count": 56,
            "outputs": [
                {
                    "output_type": "execute_result",
                    "execution_count": 56,
                    "data": {
                        "text/plain": "0.7009691448922982"
                    },
                    "metadata": {}
                }
            ]
        },
        {
            "metadata": {},
            "cell_type": "markdown",
            "source": "## Apply Logistic Regression Model to predict data collision "
        },
        {
            "metadata": {},
            "cell_type": "code",
            "source": "from sklearn.linear_model import LogisticRegression\nfrom sklearn.metrics import confusion_matrix\nLR = LogisticRegression(C=0.01, solver='liblinear').fit(X_trainset,y_trainset)\nLR",
            "execution_count": 57,
            "outputs": [
                {
                    "output_type": "execute_result",
                    "execution_count": 57,
                    "data": {
                        "text/plain": "LogisticRegression(C=0.01, class_weight=None, dual=False, fit_intercept=True,\n          intercept_scaling=1, max_iter=100, multi_class='warn',\n          n_jobs=None, penalty='l2', random_state=None, solver='liblinear',\n          tol=0.0001, verbose=0, warm_start=False)"
                    },
                    "metadata": {}
                }
            ]
        },
        {
            "metadata": {},
            "cell_type": "code",
            "source": "yhatR = LR.predict(X_testset)\nyhatR",
            "execution_count": 58,
            "outputs": [
                {
                    "output_type": "execute_result",
                    "execution_count": 58,
                    "data": {
                        "text/plain": "array([1, 1, 1, ..., 1, 1, 1])"
                    },
                    "metadata": {}
                }
            ]
        },
        {
            "metadata": {},
            "cell_type": "code",
            "source": "yhat_prob = LR.predict_proba(X_testset)\nyhat_prob",
            "execution_count": 59,
            "outputs": [
                {
                    "output_type": "execute_result",
                    "execution_count": 59,
                    "data": {
                        "text/plain": "array([[0.87452469, 0.12547531],\n       [0.6685821 , 0.3314179 ],\n       [0.6755442 , 0.3244558 ],\n       ...,\n       [0.6755442 , 0.3244558 ],\n       [0.83352318, 0.16647682],\n       [0.61146267, 0.38853733]])"
                    },
                    "metadata": {}
                }
            ]
        },
        {
            "metadata": {},
            "cell_type": "markdown",
            "source": "## Evaluate Logistic Regression Accurecy using F1, Jaccardand Log Loss score"
        },
        {
            "metadata": {},
            "cell_type": "code",
            "source": "from sklearn.metrics import jaccard_similarity_score\njaccard_similarity_score(y_testset, yhatR)",
            "execution_count": 60,
            "outputs": [
                {
                    "output_type": "execute_result",
                    "execution_count": 60,
                    "data": {
                        "text/plain": "0.7010033902948529"
                    },
                    "metadata": {}
                }
            ]
        },
        {
            "metadata": {},
            "cell_type": "code",
            "source": "from sklearn.metrics import f1_score\nf1_score(y_testset, yhatR, average='weighted') ",
            "execution_count": 63,
            "outputs": [
                {
                    "output_type": "stream",
                    "text": "/opt/conda/envs/Python36/lib/python3.6/site-packages/sklearn/metrics/classification.py:1143: UndefinedMetricWarning: F-score is ill-defined and being set to 0.0 in labels with no predicted samples.\n  'precision', 'predicted', average, warn_for)\n",
                    "name": "stderr"
                },
                {
                    "output_type": "execute_result",
                    "execution_count": 63,
                    "data": {
                        "text/plain": "0.5777833906841271"
                    },
                    "metadata": {}
                }
            ]
        },
        {
            "metadata": {},
            "cell_type": "code",
            "source": "from sklearn.metrics import log_loss\nlog_loss(y_testset, yhat_prob)",
            "execution_count": 62,
            "outputs": [
                {
                    "output_type": "execute_result",
                    "execution_count": 62,
                    "data": {
                        "text/plain": "0.6046075375471303"
                    },
                    "metadata": {}
                }
            ]
        },
        {
            "metadata": {},
            "cell_type": "markdown",
            "source": "### Evaluation metrics used to test the accuracy of our models were jaccard index, f-1 score and logloss for logistic regression. And based on these indexes for all model between 50 to 70%, we can conclude following outcome."
        },
        {
            "metadata": {},
            "cell_type": "markdown",
            "source": "# Based on historical data from data collision pointing to certain fields such as weather, road condition and Light condition, we can conclude that particular weather,light and road conditions have a somewhat impact on collision"
        },
        {
            "metadata": {},
            "cell_type": "code",
            "source": "",
            "execution_count": null,
            "outputs": []
        }
    ],
    "metadata": {
        "kernelspec": {
            "name": "python3",
            "display_name": "Python 3.6",
            "language": "python"
        },
        "language_info": {
            "name": "python",
            "version": "3.6.9",
            "mimetype": "text/x-python",
            "codemirror_mode": {
                "name": "ipython",
                "version": 3
            },
            "pygments_lexer": "ipython3",
            "nbconvert_exporter": "python",
            "file_extension": ".py"
        }
    },
    "nbformat": 4,
    "nbformat_minor": 1
}